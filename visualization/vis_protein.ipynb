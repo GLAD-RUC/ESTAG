{
 "cells": [
  {
   "cell_type": "code",
   "execution_count": 1,
   "metadata": {},
   "outputs": [],
   "source": [
    "import MDAnalysis as mda\n",
    "import numpy as np"
   ]
  },
  {
   "cell_type": "code",
   "execution_count": 2,
   "metadata": {},
   "outputs": [
    {
     "name": "stderr",
     "output_type": "stream",
     "text": [
      "Warning: importing 'simtk.openmm' is deprecated.  Import 'openmm' instead.\n"
     ]
    }
   ],
   "source": [
    "# 创建Universe对象\n",
    "u = mda.Universe('../mdanalysis/adk_equilibrium/adk4AKE.psf', '../mdanalysis/adk_equilibrium/1ake_007-nowater-core-dt240ps.dcd')\n",
    "protein = u.select_atoms('protein')"
   ]
  },
  {
   "cell_type": "code",
   "execution_count": 3,
   "metadata": {},
   "outputs": [
    {
     "name": "stderr",
     "output_type": "stream",
     "text": [
      "/root/anaconda3/envs/protein/lib/python3.6/site-packages/MDAnalysis/coordinates/PDB.py:1080: UserWarning: Found no information for attr: 'altLocs' Using default value of ' '\n",
      "  \"\".format(attrname, default))\n",
      "/root/anaconda3/envs/protein/lib/python3.6/site-packages/MDAnalysis/coordinates/PDB.py:1080: UserWarning: Found no information for attr: 'icodes' Using default value of ' '\n",
      "  \"\".format(attrname, default))\n",
      "/root/anaconda3/envs/protein/lib/python3.6/site-packages/MDAnalysis/coordinates/PDB.py:1080: UserWarning: Found no information for attr: 'chainIDs' Using default value of ''\n",
      "  \"\".format(attrname, default))\n",
      "/root/anaconda3/envs/protein/lib/python3.6/site-packages/MDAnalysis/coordinates/PDB.py:1080: UserWarning: Found no information for attr: 'occupancies' Using default value of '1.0'\n",
      "  \"\".format(attrname, default))\n",
      "/root/anaconda3/envs/protein/lib/python3.6/site-packages/MDAnalysis/coordinates/PDB.py:1080: UserWarning: Found no information for attr: 'tempfactors' Using default value of '0.0'\n",
      "  \"\".format(attrname, default))\n",
      "/root/anaconda3/envs/protein/lib/python3.6/site-packages/MDAnalysis/coordinates/PDB.py:1080: UserWarning: Found no information for attr: 'elements' Using default value of ' '\n",
      "  \"\".format(attrname, default))\n",
      "/root/anaconda3/envs/protein/lib/python3.6/site-packages/MDAnalysis/coordinates/PDB.py:1080: UserWarning: Found no information for attr: 'record_types' Using default value of 'ATOM'\n",
      "  \"\".format(attrname, default))\n",
      "/root/anaconda3/envs/protein/lib/python3.6/site-packages/MDAnalysis/coordinates/PDB.py:1126: UserWarning: Found missing chainIDs. Corresponding atoms will use value of 'X'\n",
      "  \"\".format(default))\n"
     ]
    }
   ],
   "source": [
    "protein.write('../temp/protein_gt.pdb')"
   ]
  },
  {
   "cell_type": "code",
   "execution_count": 4,
   "metadata": {},
   "outputs": [
    {
     "name": "stdout",
     "output_type": "stream",
     "text": [
      "(3341, 3)\n"
     ]
    }
   ],
   "source": [
    "pivot = 285\n",
    "frame = u.trajectory[pivot]\n",
    "positions = frame.positions\n",
    "print(positions.shape)"
   ]
  },
  {
   "cell_type": "code",
   "execution_count": 5,
   "metadata": {},
   "outputs": [
    {
     "name": "stdout",
     "output_type": "stream",
     "text": [
      "(213, 4)\n"
     ]
    }
   ],
   "source": [
    "backbone = u.atoms.select_atoms(\"backbone\")\n",
    "bb_by_res = backbone.split(\"residue\")\n",
    "bb_by_res = [x for x in bb_by_res if len(x)==4]\n",
    "select_ids = np.array([bb.ids for bb in bb_by_res])\n",
    "print(select_ids.shape)"
   ]
  },
  {
   "cell_type": "code",
   "execution_count": 6,
   "metadata": {},
   "outputs": [
    {
     "name": "stdout",
     "output_type": "stream",
     "text": [
      "(213, 4, 3)\n"
     ]
    }
   ],
   "source": [
    "x_gt = positions[select_ids]\n",
    "print(x_gt.shape)"
   ]
  },
  {
   "cell_type": "code",
   "execution_count": 7,
   "metadata": {},
   "outputs": [
    {
     "name": "stdout",
     "output_type": "stream",
     "text": [
      "(213, 4, 3)\n",
      "(213, 4, 3)\n"
     ]
    }
   ],
   "source": [
    "x_estag = np.load('../temp/protein_stag_egnn_pred.npy')\n",
    "x_egnn = np.load('../temp/protein_egnn_pred.npy')\n",
    "print(x_estag.shape)\n",
    "print(x_egnn.shape)"
   ]
  },
  {
   "cell_type": "code",
   "execution_count": 8,
   "metadata": {},
   "outputs": [],
   "source": [
    "positions[select_ids] = x_estag\n",
    "protein.positions = positions\n",
    "protein.write('../temp/protein_estag.pdb')"
   ]
  },
  {
   "cell_type": "code",
   "execution_count": 9,
   "metadata": {},
   "outputs": [],
   "source": [
    "positions[select_ids] = x_egnn\n",
    "protein.positions = positions\n",
    "protein.write('../temp/protein_egnn.pdb')"
   ]
  },
  {
   "cell_type": "code",
   "execution_count": 9,
   "metadata": {},
   "outputs": [],
   "source": [
    "mse_estag = 1.014\n",
    "mase_egnn = 1.388"
   ]
  },
  {
   "cell_type": "code",
   "execution_count": null,
   "metadata": {},
   "outputs": [],
   "source": []
  }
 ],
 "metadata": {
  "kernelspec": {
   "display_name": "Python 3.6.13 ('protein')",
   "language": "python",
   "name": "python3"
  },
  "language_info": {
   "codemirror_mode": {
    "name": "ipython",
    "version": 3
   },
   "file_extension": ".py",
   "mimetype": "text/x-python",
   "name": "python",
   "nbconvert_exporter": "python",
   "pygments_lexer": "ipython3",
   "version": "3.6.13"
  },
  "orig_nbformat": 4,
  "vscode": {
   "interpreter": {
    "hash": "0efb669c6e3cfb88bb9dab8f7ee3cbda7c9159c050b184dbe0517885df69196f"
   }
  }
 },
 "nbformat": 4,
 "nbformat_minor": 2
}
